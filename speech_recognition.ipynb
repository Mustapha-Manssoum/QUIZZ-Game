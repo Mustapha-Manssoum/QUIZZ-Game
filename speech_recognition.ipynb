{
 "cells": [
  {
   "cell_type": "code",
   "execution_count": 14,
   "id": "ee0a7a3a",
   "metadata": {},
   "outputs": [],
   "source": [
    "#%pip install pyaudio\n",
    "import speech_recognition"
   ]
  },
  {
   "cell_type": "markdown",
   "id": "211de673",
   "metadata": {},
   "source": [
    "pour une détection efficace il faut prononcer les phrases suivantes : \n",
    "* Le un \n",
    "* Le deux\n",
    "* le trois\n",
    "* Le quatre\n",
    "* Oui\n",
    "* Non"
   ]
  },
  {
   "cell_type": "code",
   "execution_count": 125,
   "id": "f9f3083e",
   "metadata": {},
   "outputs": [
    {
     "name": "stdout",
     "output_type": "stream",
     "text": [
      "result2:\n",
      "{   'alternative': [{'confidence': 0.89482152, 'transcript': 'non'}],\n",
      "    'final': True}\n",
      "Recognized : non\n"
     ]
    }
   ],
   "source": [
    "recognizer = speech_recognition.Recognizer()\n",
    "x=1\n",
    "while(x):\n",
    "    try:\n",
    "        with speech_recognition.Microphone() as mic:\n",
    "            recognizer.adjust_for_ambient_noise(mic, duration=0.2)\n",
    "            audio = recognizer.listen(mic)\n",
    "            \n",
    "            text = recognizer.recognize_google(audio, language='fr-FR' )\n",
    "            text = text.lower()\n",
    "            if len(text) > 0:\n",
    "                x=0\n",
    "                print(f'Recognized : {text}')\n",
    "                break\n",
    "    \n",
    "    except speech_recognition.UnknownValueError():\n",
    "        recognizer = speech_recognition.Recognizer()\n",
    "        continue"
   ]
  },
  {
   "cell_type": "code",
   "execution_count": 128,
   "id": "1b57348b",
   "metadata": {
    "scrolled": true
   },
   "outputs": [
    {
     "data": {
      "text/plain": [
       "'non'"
      ]
     },
     "execution_count": 128,
     "metadata": {},
     "output_type": "execute_result"
    }
   ],
   "source": [
    "text"
   ]
  },
  {
   "cell_type": "markdown",
   "id": "1eae1aa2",
   "metadata": {},
   "source": [
    "## Using an audio input"
   ]
  },
  {
   "cell_type": "code",
   "execution_count": 12,
   "id": "1a1a6548",
   "metadata": {},
   "outputs": [
    {
     "data": {
      "text/html": [
       "\n",
       "                <audio  controls=\"controls\" >\n",
       "                    <source src=\"data:audio/wav;base64,//NExAAQcapEAUEQAP/mMb/+MhCN/1Oc5yEIT///6nOHAwMWcWACCTnOd/8hznOcOBnwfUCAY+sH3lATB8H35QEAQM/+oMFwQOYJg+D4fR7lvFWGPBfiHNNXW8+w7bRT//NExBEVytJcAYM4AMnZyy//ZB40oppuvaYNwDBeC0JS7qh2tnZnMYoSGgLQsD48dHUOR117/kjzRcSJoeQJCxK1NX0//qcqmERcHEWOdP/Hp0sq9IY+7AsNQ0LI4u4T//NExAwVic64AY+AAGr54aPI0TbkkTBUGRKAnFBsuBqYXVh6hYEVBWFAJ+OYaOgw4S8kkYt9FBB3NDR0KJmhfsbrQpm5cJkrOUlFAjP+XEDdO3QLpUNF1f8NxAile1sm//NExAgUeZK8Ac+QAYvUa0AZW5O9JFenfkrSj4skTD3idH0To+ALqM8SBMCAgnVN00zRrJtzq9abdNtjxsqoupKczQdR1ZaN2ZY4qCBmRZZqxgdcYB/K/s9BTmruCuAY//NExAkUqZK4AHvSldGvgkAtOt0JWcOsULY7ztjOj0aiRAnWVgCFggjhSMA/FT85jRVYJMNSYWMbKkH/nU8UQRWjBKNwYuksJGTSQKOmKrLEE445OLiN1kcCtRqBACIo//NExAkUgZK0AIvSlaawxmQn5uONfRRuO7PDpiwmw3ywvGETQOkgr0zxjVs2Ixhe86iqCh1VD1yZzlLirCMvVJ2rHcktU5MoDqSJYYFaJkUpmEUqfSXeU2i4Aw4tdjgQ//NExAoSWYagAMvQlZX/xcBe1XEL/1Tzlrvn3lgIc5ZsrV5sU4nwRpVsJPlUrnri+OUYcUdAKgXHElHM2zN///8N3lC1qaVbM0qSbSrT9lQBEiaOVm4WF7GEqzBALW+y//NExBMRkYZoAOMElFghL5e1LU9ao89rt5rF5zXvZMT2ArBWWUwAxXBiJwTLYIxIxnlMpZlan//y78CdGEtKJapwYoYFcd3cdUw+xcZsq7b+EoFBrDJYHEiAYQSDGrIE//NExB8Q8PJQANDecBbcnlSpSamGvjeclOWBoaELboPrnWd7/hbN+GpGhSipFRgGXjq6zFoSnpJEWNBMuta7Zv5meyumNgOo/1EzKlmxLpSE6DNcWJTjAFKQkWEI8aLZ//NExC4SSW44AGPQlACwUqOKu+pr1X//vXn7pYr4VrycKiM6qjuv9FUrFYRaQoBVfKiVgVT6yyqgqatDANbZwm1JuMRSCoZihUIwJWGWqRU0VDRVUx3FddvbU09YdusH//NExDcPcMogAEpScC8sa//r/6mCmoIUBXFMGAmhmDN1lRmZVpQ1jKFEhUq4EQlEVIKnREGqxYGqF2ECUsRJWgsdQ0JJ21aWKa5JZ8ZgqWVkpKFRLHuFVxrlnXCLFhGF//NExEwSgLoAABjGTGCjoC6F0KKVBcgqMVFQvhYkgqe2JIbCbx4cFRXUVDYuR3DospJ78ZOP/GLxt364267/Kuu/yv3f5x3//y3+t0sVF/yxcXf8VUxBTUVVTEFNRTMu//NExFUSYCnQAAjGATEwMFVVVVVVVVVVVVVVVVVVVVVVVVVVVVVVVVVVVVVVVVVVVVVVVVVVVVVVVVVVVVVVVVVVVVVVVVVVVVVVVVVVVVVVVVVVVVVVVVVVVVVVVVVV//NExF4AAANIAAAAAFVVVVVVVVVVVVVVVVVVVVVVVVVVVVVVVVVVVVVVVVVVVVVVVVVVVVVVVVVVVVVVVVVVVVVVVVVVVVVVVVVVVVVVVVVVVVVVVVVVVVVVVVVVVVVV//NExKwAAANIAAAAAFVVVVVVVVVVVVVVVVVVVVVVVVVVVVVVVVVVVVVVVVVVVVVVVVVVVVVVVVVVVVVVVVVVVVVVVVVVVVVVVVVVVVVVVVVVVVVVVVVVVVVVVVVVVVVV\" type=\"audio/wav\" />\n",
       "                    Your browser does not support the audio element.\n",
       "                </audio>\n",
       "              "
      ],
      "text/plain": [
       "<IPython.lib.display.Audio object>"
      ]
     },
     "execution_count": 12,
     "metadata": {},
     "output_type": "execute_result"
    }
   ],
   "source": [
    "import os\n",
    "import IPython.display as ipd\n",
    "audio_path = os.getcwd() + '\\\\data\\\\un\\\\7c15f0a5-4c66-4da0-8c33-231ca9e854b4.wav'\n",
    "ipd.Audio(audio_path)"
   ]
  },
  {
   "cell_type": "code",
   "execution_count": null,
   "id": "810c721e",
   "metadata": {},
   "outputs": [],
   "source": []
  },
  {
   "cell_type": "code",
   "execution_count": null,
   "id": "375e7233",
   "metadata": {},
   "outputs": [],
   "source": []
  },
  {
   "cell_type": "code",
   "execution_count": null,
   "id": "0fe334ca",
   "metadata": {},
   "outputs": [],
   "source": []
  }
 ],
 "metadata": {
  "kernelspec": {
   "display_name": "Python 3 (ipykernel)",
   "language": "python",
   "name": "python3"
  },
  "language_info": {
   "codemirror_mode": {
    "name": "ipython",
    "version": 3
   },
   "file_extension": ".py",
   "mimetype": "text/x-python",
   "name": "python",
   "nbconvert_exporter": "python",
   "pygments_lexer": "ipython3",
   "version": "3.9.12"
  }
 },
 "nbformat": 4,
 "nbformat_minor": 5
}
