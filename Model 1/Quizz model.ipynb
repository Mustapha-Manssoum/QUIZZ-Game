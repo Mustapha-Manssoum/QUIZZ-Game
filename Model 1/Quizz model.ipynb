{
 "cells": [
  {
   "cell_type": "markdown",
   "id": "1cb53786",
   "metadata": {},
   "source": [
    "<h1 style=\"font-size:2rem;color:Blue;\"> <center>Quizz Game using vocal command<br> By training a model</center>\n"
   ]
  },
  {
   "cell_type": "code",
   "execution_count": 1,
   "id": "5b57deed",
   "metadata": {},
   "outputs": [],
   "source": [
    "import librosa\n",
    "import numpy as np\n",
    "import os\n",
    "import IPython.display as ipd"
   ]
  },
  {
   "attachments": {},
   "cell_type": "markdown",
   "id": "e186c60e",
   "metadata": {},
   "source": [
    "### Collect data using microphone"
   ]
  },
  {
   "cell_type": "code",
   "execution_count": 48,
   "id": "61cf2b45",
   "metadata": {},
   "outputs": [
    {
     "name": "stdout",
     "output_type": "stream",
     "text": [
      "Say something!\n",
      "result2:\n",
      "{   'alternative': [   {'confidence': 0.9271031, 'transcript': 'le 4'},\n",
      "                       {'transcript': 'le quatre'}],\n",
      "    'final': True}\n",
      "le 4\n",
      "Say something!\n",
      "result2:\n",
      "{   'alternative': [   {'confidence': 0.82146418, 'transcript': 'mets 4'},\n",
      "                       {'transcript': 'mets quatre'},\n",
      "                       {'transcript': 'les quatre'},\n",
      "                       {'transcript': '4'}],\n",
      "    'final': True}\n",
      "mets 4\n",
      "Say something!\n",
      "result2:\n",
      "{   'alternative': [   {'confidence': 0.9271031, 'transcript': 'le 4'},\n",
      "                       {'transcript': 'le quatre'},\n",
      "                       {'transcript': 'Leucate'}],\n",
      "    'final': True}\n",
      "le 4\n",
      "Say something!\n",
      "result2:\n",
      "{   'alternative': [   {'confidence': 0.9271031, 'transcript': 'le 4'},\n",
      "                       {'transcript': 'le quatre'}],\n",
      "    'final': True}\n",
      "le 4\n",
      "Say something!\n",
      "result2:\n",
      "{   'alternative': [   {'confidence': 0.89325988, 'transcript': 'le 4'},\n",
      "                       {'transcript': 'le'},\n",
      "                       {'transcript': 'le quatre'}],\n",
      "    'final': True}\n",
      "le 4\n",
      "Say something!\n",
      "result2:\n",
      "{   'alternative': [   {'confidence': 0.9271031, 'transcript': 'le 4'},\n",
      "                       {'transcript': 'le quatre'}],\n",
      "    'final': True}\n",
      "le 4\n",
      "Say something!\n",
      "result2:\n",
      "{   'alternative': [   {'confidence': 0.9271031, 'transcript': 'le 4'},\n",
      "                       {'transcript': 'le quatre'}],\n",
      "    'final': True}\n",
      "le 4\n",
      "Say something!\n",
      "result2:\n",
      "{   'alternative': [   {'confidence': 0.83310193, 'transcript': 'le 4'},\n",
      "                       {'transcript': 'le'},\n",
      "                       {'transcript': 'le quatre'}],\n",
      "    'final': True}\n",
      "le 4\n",
      "Say something!\n",
      "result2:\n",
      "{   'alternative': [   {'confidence': 0.9271031, 'transcript': 'le 4'},\n",
      "                       {'transcript': 'le quatre'},\n",
      "                       {'transcript': 'le cadre'}],\n",
      "    'final': True}\n",
      "le 4\n"
     ]
    }
   ],
   "source": [
    "import speech_recognition as sr\n",
    "i = 1\n",
    "while(i<10):\n",
    "    # Initialize recognizer class\n",
    "    recognizer = sr.Recognizer()\n",
    "\n",
    "    # Record audio\n",
    "    with sr.Microphone() as source:\n",
    "        print(\"Say something!\")\n",
    "        recognizer.adjust_for_ambient_noise(source , duration=1.5)\n",
    "        audio = recognizer.listen(source, phrase_time_limit=2)\n",
    "\n",
    "    # Save the audio file\n",
    "    filename = f\"recorded_audio+_{i}.wav\"\n",
    "    with open(filename, \"wb\") as f:\n",
    "        f.write(audio.get_wav_data())\n",
    "    i+=1\n",
    "\n",
    "    # Read the saved audio file\n",
    "    with sr.AudioFile(filename) as source:\n",
    "        audio = recognizer.record(source)\n",
    "        text = recognizer.recognize_google(audio, language='fr-FR')\n",
    "        print(text)"
   ]
  },
  {
   "attachments": {},
   "cell_type": "markdown",
   "id": "c702007f",
   "metadata": {},
   "source": [
    "### Load data and extarct features"
   ]
  },
  {
   "cell_type": "code",
   "execution_count": 190,
   "id": "bcd64933",
   "metadata": {},
   "outputs": [],
   "source": [
    "# Define a list to store the labels\n",
    "labels = []\n",
    "mfcc_features = []\n",
    "\n",
    "# Iterate over all subfolders in the \"data\" folder\n",
    "for subfolder in os.listdir(\"new_data\"):\n",
    "    subfolder_path = os.path.join(\"new_data\", subfolder)\n",
    "    # Iterate over all audio files in the current subfolder\n",
    "    for file in os.listdir(subfolder_path):\n",
    "        # Load audio file\n",
    "        y, sr = librosa.load(os.path.join(subfolder_path, file))\n",
    "        \n",
    "        # Extract MFCC features\n",
    "        mfcc = librosa.feature.mfcc(y=y, sr=sr,)\n",
    "        # Flatten the 2D MFCC array into a 1D array\n",
    "        mfcc_flat = mfcc.flatten()\n",
    "        \n",
    "        # mean of mfcc\n",
    "        mean_mfcc = mfcc_flat.mean()\n",
    "        # standard deviation of mfcc\n",
    "        std_mfcc = mfcc_flat.std()\n",
    "        # feature in function of the mean and the std\n",
    "        feature = (mean_mfcc+std_mfcc)/mean_mfcc\n",
    "       \n",
    "        # Append the features to the list\n",
    "        mfcc_features.append(feature)\n",
    "        # Append the label to the list\n",
    "        labels.append(subfolder)\n",
    "        "
   ]
  },
  {
   "cell_type": "code",
   "execution_count": 102,
   "id": "4473675e",
   "metadata": {},
   "outputs": [
    {
     "name": "stdout",
     "output_type": "stream",
     "text": [
      "['un', 'trois', 'deux', 'quatre']\n"
     ]
    }
   ],
   "source": [
    "# All the classes in my dataset\n",
    "print(list(set(labels)))"
   ]
  },
  {
   "cell_type": "code",
   "execution_count": 192,
   "id": "30ffd11f",
   "metadata": {},
   "outputs": [],
   "source": [
    "from sklearn.model_selection import train_test_split\n",
    "# Split the dataset into a 70/30 training/test split\n",
    "X_train, X_test, y_train, y_test = train_test_split(mfcc_features, labels, test_size=0.2, random_state=42)"
   ]
  },
  {
   "cell_type": "code",
   "execution_count": 193,
   "id": "e7cce3bd",
   "metadata": {},
   "outputs": [
    {
     "name": "stdout",
     "output_type": "stream",
     "text": [
      "(63,)\n",
      "(63, 1)\n",
      "[-3.4072313] 3\n",
      "[-3.44603] 3\n",
      "[-3.7611423] 2\n",
      "[-3.730568] 2\n",
      "[-3.5865252] 0\n",
      "[-3.417984] 3\n",
      "[-3.773037] 0\n",
      "[-3.5607967] 2\n",
      "[-3.5518339] 1\n",
      "[-3.7657106] 3\n",
      "[-3.0225267] 2\n",
      "[-3.6217444] 2\n",
      "[-3.5077088] 0\n",
      "[-3.4592357] 1\n",
      "[-3.4748716] 2\n",
      "[-3.4272432] 3\n"
     ]
    }
   ],
   "source": [
    "from sklearn.preprocessing import LabelEncoder\n",
    "\n",
    "# transform labels from strings to integers\n",
    "le = LabelEncoder()\n",
    "y_train = le.fit_transform(y_train)\n",
    "y_test = le.fit_transform(y_test)\n",
    "print(y_train.shape)\n",
    "\n",
    "# transform data from lists to np arrays\n",
    "X_train = np.array(X_train)\n",
    "X_test = np.array(X_test)\n",
    "X_train = X_train.reshape(-1,1)\n",
    "X_test = X_test.reshape(-1,1)\n",
    "print(X_train.shape)\n",
    "\n",
    "for i in range(len(y_test)):\n",
    "    print(X_train[i], y_train[i])"
   ]
  },
  {
   "attachments": {},
   "cell_type": "markdown",
   "id": "77d6a0b6",
   "metadata": {},
   "source": [
    "### Training using SVM model"
   ]
  },
  {
   "cell_type": "code",
   "execution_count": 194,
   "id": "a1dfaf3d",
   "metadata": {},
   "outputs": [],
   "source": [
    "from sklearn.svm import SVC\n",
    "clf = SVC()\n",
    "H=clf.fit(X_train, y_train)"
   ]
  },
  {
   "attachments": {},
   "cell_type": "markdown",
   "id": "cfbc2dca",
   "metadata": {},
   "source": [
    "##### Make predictions on the training data"
   ]
  },
  {
   "cell_type": "code",
   "execution_count": 195,
   "id": "e31c39c6",
   "metadata": {},
   "outputs": [
    {
     "name": "stdout",
     "output_type": "stream",
     "text": [
      "y_test : [3 3 2 2 0 3 0 2 1 3 2 2 0 1 2 3 0 2 2 0 3 1 2 0 3 0 0 1 0 3 0 1 3 2 2 3 0\n",
      " 1 2 1 2 1 2 3 2 0 1 3 2 3 3 1 1 0 2 1 0 1 1 3 3 0 2]\n",
      "y_pred : [3 3 0 0 2 3 0 3 3 0 1 0 3 3 3 3 0 0 0 2 3 1 1 0 3 0 0 1 0 3 0 1 3 3 3 3 0\n",
      " 3 0 1 3 1 3 3 3 0 1 0 3 3 3 1 1 0 2 1 0 1 1 2 3 0 1]\n",
      "accuracy : 58.73%\n"
     ]
    }
   ],
   "source": [
    "y_pred = clf.predict(X_train)\n",
    "print(f'y_test : {y_train}')\n",
    "print(f'y_pred : {y_pred}')\n",
    "# Evaluate the model\n",
    "from sklearn.metrics import accuracy_score\n",
    "train_accuracy = accuracy_score(y_train, y_pred)\n",
    "print(f'accuracy : {round(train_accuracy*100,2)}%')"
   ]
  },
  {
   "attachments": {},
   "cell_type": "markdown",
   "id": "78fc5d37",
   "metadata": {},
   "source": [
    "##### Make predictions on the test data"
   ]
  },
  {
   "cell_type": "code",
   "execution_count": 196,
   "id": "2d033753",
   "metadata": {},
   "outputs": [
    {
     "name": "stdout",
     "output_type": "stream",
     "text": [
      "X_test : [[-3.1411333]\n",
      " [-3.5704477]\n",
      " [-3.4817605]\n",
      " [-3.4097688]\n",
      " [-3.7790918]\n",
      " [-3.3809555]\n",
      " [-3.6191459]\n",
      " [-3.6570845]\n",
      " [-3.5910525]\n",
      " [-3.6548815]\n",
      " [-3.610173 ]\n",
      " [-3.3682635]\n",
      " [-3.5009096]\n",
      " [-3.5161812]\n",
      " [-3.3985226]\n",
      " [-3.5904627]]\n",
      "y_test : [1 0 1 1 0 1 0 3 0 0 2 1 3 1 3 2]\n",
      "y_pred : [1 2 3 3 0 3 0 0 2 0 2 1 3 3 3 2]\n",
      "accuracy : 56.25%\n"
     ]
    }
   ],
   "source": [
    "y_pred = clf.predict(X_test)\n",
    "print(f'X_test : {X_test}')\n",
    "print(f'y_test : {y_test}')\n",
    "print(f'y_pred : {y_pred}')\n",
    "# Evaluate the model\n",
    "from sklearn.metrics import accuracy_score\n",
    "test_accuracy = accuracy_score(y_test, y_pred)\n",
    "print(f'accuracy : {round(test_accuracy*100,2)}%')"
   ]
  },
  {
   "attachments": {},
   "cell_type": "markdown",
   "id": "ed620f85",
   "metadata": {},
   "source": [
    "**==>** une prediction et une justesse moyenne !"
   ]
  },
  {
   "cell_type": "code",
   "execution_count": 213,
   "id": "cf827fbb",
   "metadata": {},
   "outputs": [
    {
     "data": {
      "image/png": "[encoded data removed]",
      "text/plain": [
       "<Figure size 1440x504 with 1 Axes>"
      ]
     },
     "metadata": {
      "needs_background": "light"
     },
     "output_type": "display_data"
    }
   ],
   "source": [
    "import matplotlib.pyplot as plt\n",
    "\n",
    "plt.figure(figsize=(20, 7))\n",
    "plt.scatter(X_test, y_test, s=400, label=\"Real Data & Labels\", marker='*')\n",
    "plt.scatter(X_test, y_pred,s=100, label=\"Predictions\", marker='*')\n",
    "plt.legend()\n",
    "plt.show()\n"
   ]
  },
  {
   "cell_type": "code",
   "execution_count": 169,
   "id": "b9431586",
   "metadata": {},
   "outputs": [
    {
     "data": {
      "image/png": "[encoded data removed]",
      "text/plain": [
       "<Figure size 432x288 with 1 Axes>"
      ]
     },
     "metadata": {
      "needs_background": "light"
     },
     "output_type": "display_data"
    }
   ],
   "source": [
    "accuracies = [train_accuracy, test_accuracy]\n",
    "data = [\"Train\", \"Test\"]\n",
    "\n",
    "plt.bar(data, accuracies)\n",
    "plt.xlabel(\"Data\")\n",
    "plt.ylabel(\"Accuracy\")\n",
    "plt.title(\"Train and Test Accuracy\")\n",
    "plt.show()"
   ]
  },
  {
   "cell_type": "code",
   "execution_count": null,
   "id": "633a1211",
   "metadata": {},
   "outputs": [],
   "source": []
  },
  {
   "cell_type": "code",
   "execution_count": null,
   "id": "1cb2c92d",
   "metadata": {},
   "outputs": [],
   "source": []
  }
 ],
 "metadata": {
  "kernelspec": {
   "display_name": "base",
   "language": "python",
   "name": "python3"
  },
  "language_info": {
   "codemirror_mode": {
    "name": "ipython",
    "version": 3
   },
   "file_extension": ".py",
   "mimetype": "text/x-python",
   "name": "python",
   "nbconvert_exporter": "python",
   "pygments_lexer": "ipython3",
   "version": "3.9.12"
  },
  "vscode": {
   "interpreter": {
    "hash": "9941f5d6ccfd0376f9ac0464e1f0007656c2572772b308f7d4b8246c71a34dc1"
   }
  }
 },
 "nbformat": 4,
 "nbformat_minor": 5
}
